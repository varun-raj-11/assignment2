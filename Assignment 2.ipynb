{
 "cells": [
  {
   "cell_type": "markdown",
   "id": "d712c293",
   "metadata": {},
   "source": [
    "# Q1. Which keyword is used to create a function? Create a function to return a list of odd numbers in the range of 1 to 25."
   ]
  },
  {
   "cell_type": "code",
   "execution_count": 1,
   "id": "eb080b99",
   "metadata": {},
   "outputs": [],
   "source": [
    "#The keyword used to create a function in Python is \"def\"\n",
    "\n",
    "def get_odd_numbers():\n",
    "    odd_numbers = []\n",
    "    for num in range(1, 26):\n",
    "        if num % 2 != 0:\n",
    "            odd_numbers.append(num)\n",
    "    return odd_numbers\n"
   ]
  },
  {
   "cell_type": "code",
   "execution_count": 2,
   "id": "50936ebb",
   "metadata": {},
   "outputs": [
    {
     "data": {
      "text/plain": [
       "[1, 3, 5, 7, 9, 11, 13, 15, 17, 19, 21, 23, 25]"
      ]
     },
     "execution_count": 2,
     "metadata": {},
     "output_type": "execute_result"
    }
   ],
   "source": [
    " get_odd_numbers()"
   ]
  },
  {
   "cell_type": "markdown",
   "id": "187f0ebf",
   "metadata": {},
   "source": [
    "# Q2. Why *args and **kwargs is used in some functions? Create a function each for *args and **kwargs to demonstrate their use."
   ]
  },
  {
   "cell_type": "code",
   "execution_count": 1,
   "id": "5baaceab",
   "metadata": {},
   "outputs": [],
   "source": [
    "#*args and **kwargs are used in functions to handle a variable number of arguments and keyword arguments, respectively.\n",
    "#This is useful when you don't know in advancethat how many arguments or keyword arguments a function will need to handle.\n",
    "\n",
    "#demonstration \"args\"\n",
    "\n",
    "def sum_values(*args):\n",
    "    total = 0\n",
    "    for value in args:\n",
    "        total += value\n",
    "    return total\n",
    "\n"
   ]
  },
  {
   "cell_type": "code",
   "execution_count": 3,
   "id": "35e0f03e",
   "metadata": {},
   "outputs": [
    {
     "data": {
      "text/plain": [
       "342"
      ]
     },
     "execution_count": 3,
     "metadata": {},
     "output_type": "execute_result"
    }
   ],
   "source": [
    "sum_values(37,303,2)"
   ]
  },
  {
   "cell_type": "code",
   "execution_count": 4,
   "id": "9c06e045",
   "metadata": {},
   "outputs": [],
   "source": [
    "#demonstartion for \"*kwargs\"\n",
    "\n",
    "def print_info(**kwargs):\n",
    "    for key, value in kwargs.items():\n",
    "        print(f'{key}: {value}')\n"
   ]
  },
  {
   "cell_type": "code",
   "execution_count": null,
   "id": "34affe13",
   "metadata": {},
   "outputs": [],
   "source": [
    "\n"
   ]
  },
  {
   "cell_type": "code",
   "execution_count": null,
   "id": "5a9c6269",
   "metadata": {},
   "outputs": [],
   "source": []
  },
  {
   "cell_type": "markdown",
   "id": "608032e7",
   "metadata": {},
   "source": [
    "# Q3. What is an iterator in python? Name the method used to initialise the iterator object and the method used for iteration. Use these methods to print the first five elements of the given list [2, 4, 6, 8, 10, 12, 14, 16, 18, 20]"
   ]
  },
  {
   "cell_type": "code",
   "execution_count": 20,
   "id": "3e844cbf",
   "metadata": {},
   "outputs": [
    {
     "name": "stdout",
     "output_type": "stream",
     "text": [
      "2\n",
      "4\n",
      "6\n",
      "8\n",
      "10\n"
     ]
    }
   ],
   "source": [
    "#In Python, an iterator is an object that allows you to traverse through a collection of data, one element at a time. \n",
    "#The iter() function is used to initialize an iterator object, and the next() method is used to iterate through the elements of the collection.\n",
    "\n",
    "list= [2, 4, 6, 8, 10, 12, 14, 16, 18, 20]\n",
    "iterator1= iter(list)\n",
    "for i in range(5):\n",
    "    print(next(iterator1))"
   ]
  },
  {
   "cell_type": "markdown",
   "id": "b49e6d33",
   "metadata": {},
   "source": [
    "# Q4.  What is a generator function in python? Why yield keyword is used? Give an example of a generator function."
   ]
  },
  {
   "cell_type": "code",
   "execution_count": 28,
   "id": "d752cb4d",
   "metadata": {},
   "outputs": [],
   "source": [
    "#Generator function is a special type of function that allows you to generate a sequence of values on-the-fly, rather than creating an entire sequence in memory all at once.\n",
    "#A generator function is defined like a regular function, but instead of using the return keyword to return a value, it uses the yield keyword. The yield keyword is used to temporarily suspend the function and send a value back to the caller, while preserving the state of the function for later resumption.\n",
    "\n",
    "#example: Function that generates the first n numbers in the Fibonacci sequence:\n",
    "\n",
    "def fibonacci(n):\n",
    "    a, b = 0, 1\n",
    "    for i in range(n):\n",
    "        yield a\n",
    "        a, b = b, a + b\n",
    "\n",
    "\n",
    "\n"
   ]
  },
  {
   "cell_type": "markdown",
   "id": "47c8c7c9",
   "metadata": {},
   "source": [
    "# Q5. Create a generator function for prime numbers less than 1000. Use the next() method to print the first 20 prime numbers."
   ]
  },
  {
   "cell_type": "code",
   "execution_count": 32,
   "id": "9f54608e",
   "metadata": {},
   "outputs": [
    {
     "name": "stdout",
     "output_type": "stream",
     "text": [
      "2\n",
      "3\n",
      "5\n",
      "7\n",
      "11\n",
      "13\n",
      "17\n",
      "19\n",
      "23\n",
      "29\n",
      "31\n",
      "37\n",
      "41\n",
      "43\n",
      "47\n",
      "53\n",
      "59\n",
      "61\n",
      "67\n",
      "71\n"
     ]
    }
   ],
   "source": [
    "def prime_generator():\n",
    "    # First prime number\n",
    "    yield 2\n",
    "    \n",
    "    # Check odd numbers for primality\n",
    "    for num in range(3, 1000, 2):\n",
    "        is_prime = True\n",
    "        for i in range(3, int(num ** 0.5) + 1, 2):\n",
    "            if num % i == 0:\n",
    "                is_prime = False\n",
    "                break\n",
    "        if is_prime:\n",
    "            yield num\n",
    "\n",
    "# Generate first 20 prime numbers\n",
    "prime_gen = prime_generator()\n",
    "for i in range(20):\n",
    "    print(next(prime_gen))\n",
    "\n"
   ]
  },
  {
   "cell_type": "markdown",
   "id": "823e10ad",
   "metadata": {},
   "source": [
    "# Q6. Write a python program to print the first 10 Fibonacci numbers using a while loop"
   ]
  },
  {
   "cell_type": "code",
   "execution_count": 33,
   "id": "0983b5ac",
   "metadata": {},
   "outputs": [
    {
     "name": "stdout",
     "output_type": "stream",
     "text": [
      "0\n",
      "1\n",
      "1\n",
      "2\n",
      "3\n",
      "5\n",
      "8\n",
      "13\n",
      "21\n",
      "34\n"
     ]
    }
   ],
   "source": [
    "# Initialize variables\n",
    "a, b = 0, 1\n",
    "count = 0\n",
    "\n",
    "# Print the first 10 Fibonacci numbers\n",
    "while count < 10:\n",
    "    print(a)\n",
    "    c = a + b\n",
    "    a, b = b, c\n",
    "    count += 1\n"
   ]
  },
  {
   "cell_type": "markdown",
   "id": "8ad5f4af",
   "metadata": {},
   "source": [
    "# Q.7. Write a List Comprehension to iterate through the given string: ‘pwskills’.\n",
    "\n",
    "Expected output: ['p', 'w', 's', 'k', 'i', 'l', 'l', 's'] "
   ]
  },
  {
   "cell_type": "code",
   "execution_count": 34,
   "id": "6c36d580",
   "metadata": {},
   "outputs": [
    {
     "name": "stdout",
     "output_type": "stream",
     "text": [
      "['p', 'w', 's', 'k', 'i', 'l', 'l', 's']\n"
     ]
    }
   ],
   "source": [
    "string = 'pwskills'\n",
    "result = [char for char in string if char in ['p', 'w', 's', 'k', 'i', 'l']]\n",
    "print(result)\n"
   ]
  },
  {
   "cell_type": "markdown",
   "id": "be021134",
   "metadata": {},
   "source": [
    "# Q8. Write a python program to check whether a given number is Palindrome or not using a while loop"
   ]
  },
  {
   "cell_type": "code",
   "execution_count": 35,
   "id": "51394261",
   "metadata": {},
   "outputs": [
    {
     "name": "stdout",
     "output_type": "stream",
     "text": [
      "Enter a number: 20\n",
      "20 is not a palindrome\n"
     ]
    }
   ],
   "source": [
    "# Get input from user\n",
    "num = int(input(\"Enter a number: \"))\n",
    "\n",
    "# Initialize variables\n",
    "temp = num\n",
    "rev = 0\n",
    "\n",
    "# Reverse the number using a while loop\n",
    "while temp > 0:\n",
    "    digit = temp % 10\n",
    "    rev = rev * 10 + digit\n",
    "    temp //= 10\n",
    "\n",
    "# Check if the number is a palindrome\n",
    "if num == rev:\n",
    "    print(num, \"is a palindrome\")\n",
    "else:\n",
    "    print(num, \"is not a palindrome\")\n"
   ]
  },
  {
   "cell_type": "markdown",
   "id": "4c563617",
   "metadata": {},
   "source": [
    "# Q9. Write a code to print odd numbers from 1 to 100 using list comprehension"
   ]
  },
  {
   "cell_type": "code",
   "execution_count": 36,
   "id": "e0b5b3f9",
   "metadata": {},
   "outputs": [
    {
     "name": "stdout",
     "output_type": "stream",
     "text": [
      "[1, 3, 5, 7, 9, 11, 13, 15, 17, 19, 21, 23, 25, 27, 29, 31, 33, 35, 37, 39, 41, 43, 45, 47, 49, 51, 53, 55, 57, 59, 61, 63, 65, 67, 69, 71, 73, 75, 77, 79, 81, 83, 85, 87, 89, 91, 93, 95, 97, 99]\n"
     ]
    }
   ],
   "source": [
    "odd_numbers = [num for num in range(1, 101) if num % 2 != 0]\n",
    "print(odd_numbers)\n"
   ]
  },
  {
   "cell_type": "code",
   "execution_count": null,
   "id": "8f7ce71c",
   "metadata": {},
   "outputs": [],
   "source": []
  }
 ],
 "metadata": {
  "kernelspec": {
   "display_name": "Python 3 (ipykernel)",
   "language": "python",
   "name": "python3"
  },
  "language_info": {
   "codemirror_mode": {
    "name": "ipython",
    "version": 3
   },
   "file_extension": ".py",
   "mimetype": "text/x-python",
   "name": "python",
   "nbconvert_exporter": "python",
   "pygments_lexer": "ipython3",
   "version": "3.9.13"
  }
 },
 "nbformat": 4,
 "nbformat_minor": 5
}
